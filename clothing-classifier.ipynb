{
 "cells": [
  {
   "cell_type": "markdown",
   "metadata": {},
   "source": [
    "<h1 style=\"font-size:300%\">Clothing Classifier</h1>\n",
    "\n",
    "This is an example notebook for the basics of computer vision using a multilayer perceptron for a simple classification task of images of clothing using the [clothing-dataset-small](https://github.com/alexeygrigorev/clothing-dataset-small) by Alexey Grigorev. Notice that, given that this notebook serves as a mere example, we only use the data in the `train` folder of this dataset and train/test split that again. Moreover, the scikit learn MLP splits its input again into train/eval. As an exercise to the reader it is left to use even more data by putting everything together in one folder and update the `data_folder` variable below.\n",
    "\n",
    "Bas S.H.T. Michielsen MSc"
   ]
  },
  {
   "cell_type": "code",
   "execution_count": null,
   "metadata": {},
   "outputs": [],
   "source": [
    "import platform, sklearn\n",
    "from utils import *\n",
    "data_path = \"data\"\n",
    "data_folder = \"test\"\n",
    "print(\"python\", platform.python_version(), \"| scikit-learn\", sklearn.__version__)"
   ]
  },
  {
   "cell_type": "markdown",
   "metadata": {},
   "source": [
    "# Download the dataset"
   ]
  },
  {
   "cell_type": "code",
   "execution_count": null,
   "metadata": {},
   "outputs": [],
   "source": [
    "data_repo_user = \"alexeygrigorev\"\n",
    "data_repo_name = \"clothing-dataset-small\"\n",
    "if not os.path.exists(os.path.join(data_path, data_repo_name)):\n",
    "    download_and_extract_repo(data_repo_user, data_repo_name, data_path)\n",
    "    print(\"Downloaded dataset\", data_repo_name)\n",
    "else:\n",
    "    print(\"The dataset\", data_repo_name, \"was found locally, no need to download it.\")\n",
    "data_path = os.path.join(data_path, data_repo_name, data_folder)\n",
    "print(\"Using\", data_path)"
   ]
  },
  {
   "cell_type": "markdown",
   "metadata": {},
   "source": [
    "# Loading the images"
   ]
  },
  {
   "cell_type": "code",
   "execution_count": null,
   "metadata": {},
   "outputs": [],
   "source": [
    "size = 256\n",
    "images, labels = load_labelled_images(data_path, size)\n",
    "print(\"Loaded\", len(images), \"images in the following\", len(numpy.unique(labels)), \"classes:\")\n",
    "for label in numpy.unique(labels):\n",
    "    print(label)"
   ]
  },
  {
   "cell_type": "markdown",
   "metadata": {},
   "source": [
    "# Make train and test sets"
   ]
  },
  {
   "cell_type": "code",
   "execution_count": null,
   "metadata": {},
   "outputs": [],
   "source": [
    "from sklearn.model_selection import train_test_split\n",
    "X_train, X_test, y_train, y_test = train_test_split(images, labels, test_size=.3, random_state=0, stratify=labels)\n",
    "print(\"train dataset size:\", len(X_train), \"| test dataset size:\", len(X_test))"
   ]
  },
  {
   "cell_type": "markdown",
   "metadata": {},
   "source": [
    "# Setting Baseline"
   ]
  },
  {
   "cell_type": "code",
   "execution_count": null,
   "metadata": {},
   "outputs": [],
   "source": [
    "from sklearn.neighbors import KNeighborsClassifier\n",
    "model = KNeighborsClassifier()\n",
    "model.fit(X_train, y_train)\n",
    "score = model.score(X_test, y_test)\n",
    "print(\"Accuracy:\", score)"
   ]
  },
  {
   "cell_type": "markdown",
   "metadata": {},
   "source": [
    "# Modelling"
   ]
  },
  {
   "cell_type": "code",
   "execution_count": null,
   "metadata": {},
   "outputs": [],
   "source": [
    "from sklearn.neural_network import MLPClassifier\n",
    "model = MLPClassifier()\n",
    "model.fit(X_train, y_train)\n",
    "score = model.score(X_test, y_test)\n",
    "print(\"Accuracy:\", score)"
   ]
  },
  {
   "cell_type": "code",
   "execution_count": null,
   "metadata": {},
   "outputs": [],
   "source": [
    "from sklearn.metrics import classification_report\n",
    "predictions = model.predict(X_test)\n",
    "report = classification_report(y_test, predictions)\n",
    "print(report)"
   ]
  }
 ],
 "metadata": {
  "kernelspec": {
   "display_name": "Python 3",
   "language": "python",
   "name": "python3"
  },
  "language_info": {
   "codemirror_mode": {
    "name": "ipython",
    "version": 3
   },
   "file_extension": ".py",
   "mimetype": "text/x-python",
   "name": "python",
   "nbconvert_exporter": "python",
   "pygments_lexer": "ipython3",
   "version": "3.12.8"
  }
 },
 "nbformat": 4,
 "nbformat_minor": 2
}
